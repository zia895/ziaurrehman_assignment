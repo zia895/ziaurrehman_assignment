{
 "cells": [
  {
   "cell_type": "markdown",
   "id": "540e5cb4-79c7-4e97-89ac-8910ad899242",
   "metadata": {},
   "source": [
    "# Data Science Tools and Ecosystem"
   ]
  },
  {
   "cell_type": "markdown",
   "id": "207b27a6-98f5-4ab3-bfbc-155891843ace",
   "metadata": {},
   "source": [
    "_In this notebook, Data Science Tools and Ecosystem are summarized._"
   ]
  },
  {
   "cell_type": "markdown",
   "id": "558b65fb-4bdc-4800-aafc-e208d65df6da",
   "metadata": {},
   "source": [
    "**Objectives:**\n",
    "- datascience_languages\n",
    "- datascience_tools\n",
    "- arathimatic_operations\n",
    "- headings_tables_orderedlists"
   ]
  },
  {
   "cell_type": "markdown",
   "id": "71a0cc72-a160-4133-be35-ee6636bb7f93",
   "metadata": {},
   "source": [
    "_Some of the popular languages that Data Scientists use are:_\n",
    "\n",
    "1. python\n",
    "2. R\n",
    "3. Julia"
   ]
  },
  {
   "cell_type": "markdown",
   "id": "64e94a73-8f52-4dda-8437-58d8b3523884",
   "metadata": {},
   "source": [
    "_Some of the commonly used libraries used by Data Scientists include::_\n",
    "\n",
    "1. Pandas\n",
    "2. NumPy\n",
    "3. Seaborn"
   ]
  },
  {
   "cell_type": "markdown",
   "id": "5ff093d6-9c4c-45fe-91c6-9737b0f97acb",
   "metadata": {},
   "source": [
    "| Data Science Tools |\n",
    "| -------------------|\n",
    "| jupyter notebook |\n",
    " | apache spark |\n",
    " | Mongo DB |\n"
   ]
  },
  {
   "cell_type": "markdown",
   "id": "dd986c02-2118-45ae-8d7a-544a712c6bb6",
   "metadata": {},
   "source": [
    "### Below are a few examples of evaluating arithmetic expressions in Python\n",
    "###### a = 7\n",
    "###### b = 6\n",
    "###### c = a + b\n",
    "###### c"
   ]
  },
  {
   "cell_type": "code",
   "execution_count": 3,
   "id": "f410056f-98b0-45d4-bbe3-2f89afa7abd1",
   "metadata": {},
   "outputs": [
    {
     "data": {
      "text/plain": [
       "17"
      ]
     },
     "execution_count": 3,
     "metadata": {},
     "output_type": "execute_result"
    }
   ],
   "source": [
    "# This a simple arithmetic expression to mutiply then add integers\n",
    "(3*4) + 5"
   ]
  },
  {
   "cell_type": "code",
   "execution_count": 4,
   "id": "b799ad0c-a037-4e2f-b9b1-f5f583319067",
   "metadata": {},
   "outputs": [
    {
     "name": "stdout",
     "output_type": "stream",
     "text": [
      "3.3333333333333335\n"
     ]
    }
   ],
   "source": [
    "# This will convert 200 minutes to hours by diving by 60\n",
    "def MTH(minutes):\n",
    "    hours = minutes/60\n",
    "    return hours\n",
    "print(MTH(200))"
   ]
  },
  {
   "cell_type": "code",
   "execution_count": null,
   "id": "dbfa06b7-2509-4eed-8006-f93c58369461",
   "metadata": {},
   "outputs": [],
   "source": [
    "## Author\n",
    "   "
   ]
  }
 ],
 "metadata": {
  "kernelspec": {
   "display_name": "Python 3 (ipykernel)",
   "language": "python",
   "name": "python3"
  },
  "language_info": {
   "codemirror_mode": {
    "name": "ipython",
    "version": 3
   },
   "file_extension": ".py",
   "mimetype": "text/x-python",
   "name": "python",
   "nbconvert_exporter": "python",
   "pygments_lexer": "ipython3",
   "version": "3.12.4"
  }
 },
 "nbformat": 4,
 "nbformat_minor": 5
}
